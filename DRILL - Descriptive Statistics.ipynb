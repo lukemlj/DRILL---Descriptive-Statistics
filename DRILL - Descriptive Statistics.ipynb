{
 "cells": [
  {
   "cell_type": "code",
   "execution_count": 2,
   "metadata": {
    "collapsed": true
   },
   "outputs": [],
   "source": [
    "import numpy as np\n",
    "import pandas as pd\n",
    "import matplotlib.pyplot as plt\n",
    "%matplotlib inline\n"
   ]
  },
  {
   "cell_type": "code",
   "execution_count": 25,
   "metadata": {
    "collapsed": false
   },
   "outputs": [
    {
     "name": "stdout",
     "output_type": "stream",
     "text": [
      "8.05504883318\n",
      "8.61055765199\n"
     ]
    },
    {
     "data": {
      "text/plain": [
       "<matplotlib.lines.Line2D at 0xb0babe0>"
      ]
     },
     "execution_count": 25,
     "metadata": {},
     "output_type": "execute_result"
    },
    {
     "data": {
      "image/png": "[encoded data removed]",
      "text/plain": [
       "<matplotlib.figure.Figure at 0xb045320>"
      ]
     },
     "metadata": {},
     "output_type": "display_data"
    }
   ],
   "source": [
    "exponential = np.random.exponential(10, 100)\n",
    "plt.hist(exponential)\n",
    "print(exponential.mean())\n",
    "print(exponential.std())\n",
    "plt.axvline(exponential.mean(), color='b', linestyle='solid', linewidth=2)\n",
    "plt.axvline(exponential.std(), color='b', linestyle='dashed', linewidth=2)\n"
   ]
  },
  {
   "cell_type": "markdown",
   "metadata": {},
   "source": [
    "The graph of the data for this exponential distribution with the parameter of 10 is skewed right (tail to the right) with a mean and standard deviation not too far off from 10. This makes sense since the parameter lambda = 10 is actually theoretically equal to the mean and standard deviation. As the sample size increases, one would expect that the mean and standard deviation would get closer to 10. "
   ]
  },
  {
   "cell_type": "code",
   "execution_count": 3,
   "metadata": {
    "collapsed": false
   },
   "outputs": [
    {
     "name": "stdout",
     "output_type": "stream",
     "text": [
      "2.41\n",
      "1.92922264138\n"
     ]
    },
    {
     "data": {
      "text/plain": [
       "<matplotlib.lines.Line2D at 0x96c5400>"
      ]
     },
     "execution_count": 3,
     "metadata": {},
     "output_type": "execute_result"
    },
    {
     "data": {
      "image/png": "[encoded data removed]",
      "text/plain": [
       "<matplotlib.figure.Figure at 0x963c5c0>"
      ]
     },
     "metadata": {},
     "output_type": "display_data"
    }
   ],
   "source": [
    "geometric = np.random.geometric(p=0.35, size=100)\n",
    "plt.hist(geometric)\n",
    "print(geometric.mean())\n",
    "print(geometric.std())\n",
    "plt.axvline(geometric.mean(), color='b', linestyle='solid', linewidth=2)\n",
    "plt.axvline(geometric.std(), color='b', linestyle='dashed', linewidth=2)\n"
   ]
  },
  {
   "cell_type": "markdown",
   "metadata": {},
   "source": [
    "The graph of this geometric distribution looks somewhat similar to the exponential distribution. It is also skewed right. However, the geometric distribution is discrete unlike the exponential distribution. The mean and the standard deviations are not equal, so they are not as close as they were in the exponential distribution. "
   ]
  },
  {
   "cell_type": "code",
   "execution_count": 7,
   "metadata": {
    "collapsed": false
   },
   "outputs": [
    {
     "name": "stdout",
     "output_type": "stream",
     "text": [
      "3.0\n",
      "1.12249721603\n"
     ]
    },
    {
     "data": {
      "image/png": "[encoded data removed]",
      "text/plain": [
       "<matplotlib.figure.Figure at 0x9a4dcc0>"
      ]
     },
     "metadata": {},
     "output_type": "display_data"
    }
   ],
   "source": [
    "hypergeometric = np.random.hypergeometric(15, 10, 5, 100)\n",
    "plt.hist(hypergeometric)\n",
    "plt.axvline(hypergeometric.mean(), color='b', linestyle='solid', linewidth=2)\n",
    "plt.axvline(hypergeometric.std(), color='b', linestyle='dashed', linewidth=2)\n",
    "print(hypergeometric.mean())\n",
    "print(hypergeometric.std())"
   ]
  },
  {
   "cell_type": "markdown",
   "metadata": {},
   "source": [
    "The hypergeometric distribution models the same situation as the binomial distribution briefly mentioned in this lesson, but the selections are made without replacement unlike the binomial case. As can be seen from the histogram, this is a discrete distribution. If the ratio of the first two parameters is not close to 0 or 1, and the third parameter is smaller than the first two but still relatively large, then the hypergeometric distribution can be approximated by the standard normal distribution. The histogram is somewhat bell-shaped with the parameters chosen above. "
   ]
  },
  {
   "cell_type": "code",
   "execution_count": 8,
   "metadata": {
    "collapsed": false
   },
   "outputs": [
    {
     "name": "stdout",
     "output_type": "stream",
     "text": [
      "1.66188134376\n",
      "1.64068729915\n"
     ]
    },
    {
     "data": {
      "image/png": "[encoded data removed]",
      "text/plain": [
       "<matplotlib.figure.Figure at 0x9922f98>"
      ]
     },
     "metadata": {},
     "output_type": "display_data"
    }
   ],
   "source": [
    "chisquare = np.random.chisquare(2,100)\n",
    "plt.hist(chisquare)\n",
    "plt.axvline(chisquare.mean(), color='b', linestyle='solid', linewidth=2)\n",
    "plt.axvline(chisquare.std(), color='b', linestyle='dashed', linewidth=2)\n",
    "print(chisquare.mean())\n",
    "print(chisquare.std())"
   ]
  },
  {
   "cell_type": "markdown",
   "metadata": {},
   "source": [
    "The chi-square distribution looks similar to the exponential distribution for the parameter chosen (k=2), although it can actually look significantly different as k increases. The mean and standard deviation came out to be approximately the same with this set of data, but that's not generally the case. I'm not sure it was useful to choose for this exercise, because I'm not sure there's much useful to say based on the given parameter, but I do recall from my statistics classes that it's a useful distribution for testing independence and goodness of fit. "
   ]
  },
  {
   "cell_type": "code",
   "execution_count": 14,
   "metadata": {
    "collapsed": false
   },
   "outputs": [
    {
     "name": "stdout",
     "output_type": "stream",
     "text": [
      "4.62\n",
      "3.85948183051\n"
     ]
    },
    {
     "data": {
      "image/png": "[encoded data removed]",
      "text/plain": [
       "<matplotlib.figure.Figure at 0xaedcc88>"
      ]
     },
     "metadata": {},
     "output_type": "display_data"
    }
   ],
   "source": [
    "negative_binomial = np.random.negative_binomial(2, 0.3, 100)\n",
    "plt.hist(negative_binomial)\n",
    "plt.axvline(negative_binomial.mean(), color='b', linestyle='solid', linewidth=2)\n",
    "plt.axvline(negative_binomial.std(), color='b', linestyle='dashed', linewidth=2)\n",
    "print(negative_binomial.mean())\n",
    "print(negative_binomial.std())\n"
   ]
  },
  {
   "cell_type": "markdown",
   "metadata": {},
   "source": [
    "Like a few of the other distributions, the negative binomial tends to be skewed to the right. It is actually closely related to the geometric distribution which models how many attempts are needed to get one success for a bernoulli trial. However, the parameter for the negative binomial distribution is the number of desired successes. The mean and standard deviation have a similar relationship compared to the geometric distribution which makes sense as the geometric distribution is a special case of the negative binomial distribution. "
   ]
  },
  {
   "cell_type": "code",
   "execution_count": 10,
   "metadata": {
    "collapsed": false
   },
   "outputs": [
    {
     "name": "stdout",
     "output_type": "stream",
     "text": [
      "7.74939479419\n",
      "3.00187780612\n"
     ]
    },
    {
     "data": {
      "image/png": "[encoded data removed]",
      "text/plain": [
       "<matplotlib.figure.Figure at 0x9d346a0>"
      ]
     },
     "metadata": {},
     "output_type": "display_data"
    }
   ],
   "source": [
    "uniform = np.random.uniform(2,12,100)\n",
    "plt.hist(uniform)\n",
    "plt.axvline(uniform.mean(), color='b', linestyle='solid', linewidth=2)\n",
    "plt.axvline(uniform.std(), color='b', linestyle='dashed', linewidth=2)\n",
    "print(uniform.mean())\n",
    "print(uniform.std())\n"
   ]
  },
  {
   "cell_type": "markdown",
   "metadata": {},
   "source": [
    "The uniform distribution is a fairly boring distribution. It's symmetric. Instead of having a bell-shaped curve, it simply has a rectangular shape as the sample size gets large. Being symmetric, the mean is expected to fall right in the middle. "
   ]
  },
  {
   "cell_type": "code",
   "execution_count": 18,
   "metadata": {
    "collapsed": false
   },
   "outputs": [
    {
     "name": "stdout",
     "output_type": "stream",
     "text": [
      "5.0098442989\n",
      "0.517801309264\n",
      "0.268118195876\n"
     ]
    },
    {
     "data": {
      "image/png": "[encoded data removed]",
      "text/plain": [
       "<matplotlib.figure.Figure at 0x9b8e128>"
      ]
     },
     "metadata": {},
     "output_type": "display_data"
    }
   ],
   "source": [
    "norm1 = np.random.normal(5, 0.5, 100)\n",
    "plt.hist(norm1)\n",
    "plt.axvline(norm1.mean(), color='b', linestyle='solid', linewidth=2)\n",
    "plt.axvline(norm1.std(), color='b', linestyle='dashed', linewidth=2)\n",
    "print(norm1.mean())\n",
    "print(norm1.std())\n",
    "print(norm1.var())"
   ]
  },
  {
   "cell_type": "code",
   "execution_count": 19,
   "metadata": {
    "collapsed": false
   },
   "outputs": [
    {
     "name": "stdout",
     "output_type": "stream",
     "text": [
      "9.91613735327\n",
      "1.06679414857\n",
      "1.13804975543\n"
     ]
    },
    {
     "data": {
      "image/png": "[encoded data removed]",
      "text/plain": [
       "<matplotlib.figure.Figure at 0x9ca3668>"
      ]
     },
     "metadata": {},
     "output_type": "display_data"
    }
   ],
   "source": [
    "norm2 = np.random.normal(10, 1, 100)\n",
    "plt.hist(norm2)\n",
    "plt.axvline(norm2.mean(), color='b', linestyle='solid', linewidth=2)\n",
    "plt.axvline(norm2.std(), color='b', linestyle='dashed', linewidth=2)\n",
    "print(norm2.mean())\n",
    "print(norm2.std())\n",
    "print(norm2.var())"
   ]
  },
  {
   "cell_type": "code",
   "execution_count": 20,
   "metadata": {
    "collapsed": false
   },
   "outputs": [
    {
     "name": "stdout",
     "output_type": "stream",
     "text": [
      "14.9259816522\n",
      "1.20534375236\n",
      "1.45285356135\n"
     ]
    },
    {
     "data": {
      "image/png": "[encoded data removed]",
      "text/plain": [
       "<matplotlib.figure.Figure at 0xafbe940>"
      ]
     },
     "metadata": {},
     "output_type": "display_data"
    }
   ],
   "source": [
    "norm3 = norm1 + norm2\n",
    "plt.hist(norm3)\n",
    "plt.axvline(norm3.mean(), color='b', linestyle='solid', linewidth=2)\n",
    "plt.axvline(norm3.std(), color='b', linestyle='dashed', linewidth=2)\n",
    "print(norm3.mean())\n",
    "print(norm3.std())\n",
    "print(norm3.var())"
   ]
  },
  {
   "cell_type": "markdown",
   "metadata": {},
   "source": [
    "So it's pretty clear that the mean of the summed distribution is the sum of the of means of the two original distributions. That is not the case with the standard deviations. The instructions say to plot the standard deviation as a vertical line, but it would probably be more meaningful to plot the mean + or - the standard deviation as was done in the previous sections. One thing to note is that it does appear that the square of the standard deviation of the combined distribution is the sum of the squares of the original distributions. So it would appear that the sum of a normal distribution is also a normal distribution with parameters mean and variance being the sum of the means and variances of the original distributions. "
   ]
  },
  {
   "cell_type": "code",
   "execution_count": null,
   "metadata": {
    "collapsed": true
   },
   "outputs": [],
   "source": []
  }
 ],
 "metadata": {
  "kernelspec": {
   "display_name": "Python 3",
   "language": "python",
   "name": "python3"
  },
  "language_info": {
   "codemirror_mode": {
    "name": "ipython",
    "version": 3
   },
   "file_extension": ".py",
   "mimetype": "text/x-python",
   "name": "python",
   "nbconvert_exporter": "python",
   "pygments_lexer": "ipython3",
   "version": "3.6.0"
  }
 },
 "nbformat": 4,
 "nbformat_minor": 2
}
